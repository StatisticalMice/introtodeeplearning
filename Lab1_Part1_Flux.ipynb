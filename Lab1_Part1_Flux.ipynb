{
 "cells": [
  {
   "cell_type": "markdown",
   "metadata": {
    "id": "WBk0ZDWY-ff8"
   },
   "source": [
    "\n",
    "# Copyright Information\n"
   ]
  },
  {
   "cell_type": "code",
   "execution_count": 4,
   "metadata": {
    "id": "3eI6DUic-6jo"
   },
   "outputs": [],
   "source": [
    "# Copyright 2021 MIT 6.S191 Introduction to Deep Learning. All Rights Reserved.\n",
    "# \n",
    "# Licensed under the MIT License. You may not use this file except in compliance\n",
    "# with the License. Use and/or modification of this code outside of 6.S191 must\n",
    "# reference:\n",
    "#\n",
    "# © MIT 6.S191: Introduction to Deep Learning\n",
    "# http://introtodeeplearning.com\n",
    "\n",
    "# Copyright 2021 Ari Huttunen\n",
    "#\n",
    "# Licensed under the MIT License."
   ]
  },
  {
   "cell_type": "markdown",
   "metadata": {
    "id": "57knM8jrYZ2t"
   },
   "source": [
    "# Lab 1: Intro to Flux and Music Generation with RNNs\n",
    "\n",
    "This lab was converted from Python/TensorFlow to Julia/Flux.\n",
    "\n",
    "This is a work in progress and may not be best Julia or Flux.\n",
    "\n",
    "# Part 1: Intro to Flux\n",
    "\n",
    "## 0.1 Load Flux\n"
   ]
  },
  {
   "cell_type": "code",
   "execution_count": 5,
   "metadata": {},
   "outputs": [
    {
     "name": "stderr",
     "output_type": "stream",
     "text": [
      "\u001b[32m\u001b[1m Activating\u001b[22m\u001b[39m environment at `/Volumes/MyFiles/GitRepos/StatisticalMice/introtodeeplearning/Project.toml`\n",
      "\u001b[32m\u001b[1m  Resolving\u001b[22m\u001b[39m package versions...\n",
      "\u001b[32m\u001b[1mNo Changes\u001b[22m\u001b[39m to `/Volumes/MyFiles/GitRepos/StatisticalMice/introtodeeplearning/Project.toml`\n",
      "\u001b[32m\u001b[1mNo Changes\u001b[22m\u001b[39m to `/Volumes/MyFiles/GitRepos/StatisticalMice/introtodeeplearning/Manifest.toml`\n"
     ]
    }
   ],
   "source": [
    "cd(@__DIR__)\n",
    "using Pkg\n",
    "Pkg.activate(\".\")\n",
    "Pkg.instantiate()\n",
    "Pkg.add([\"Flux\"])\n",
    "\n",
    "using Flux"
   ]
  },
  {
   "cell_type": "markdown",
   "metadata": {
    "id": "2QNMcdP4m3Vs"
   },
   "source": [
    "## 1.1 Tensors in Flux\n",
    "\n",
    "Flux doesn't really have tensors as such, they're just ordinary Julia variables/values."
   ]
  },
  {
   "cell_type": "code",
   "execution_count": 47,
   "metadata": {},
   "outputs": [
    {
     "data": {
      "text/plain": [
       "π = 3.1415926535897..."
      ]
     },
     "metadata": {},
     "output_type": "display_data"
    },
    {
     "data": {
      "text/plain": [
       "Irrational{:π}"
      ]
     },
     "metadata": {},
     "output_type": "display_data"
    },
    {
     "data": {
      "text/plain": [
       "0"
      ]
     },
     "metadata": {},
     "output_type": "display_data"
    },
    {
     "data": {
      "text/plain": [
       "()"
      ]
     },
     "metadata": {},
     "output_type": "display_data"
    }
   ],
   "source": [
    "# Create a 0-d tensor\n",
    "number = π\n",
    "display(number)\n",
    "display(typeof(number))\n",
    "display(ndims(number))\n",
    "display(size(number))"
   ]
  },
  {
   "cell_type": "code",
   "execution_count": 48,
   "metadata": {},
   "outputs": [
    {
     "data": {
      "text/plain": [
       "3-element Array{Float64,1}:\n",
       " 3.141592653589793\n",
       " 1.414213\n",
       " 2.71821"
      ]
     },
     "metadata": {},
     "output_type": "display_data"
    },
    {
     "data": {
      "text/plain": [
       "Array{Float64,1}"
      ]
     },
     "metadata": {},
     "output_type": "display_data"
    },
    {
     "data": {
      "text/plain": [
       "1"
      ]
     },
     "metadata": {},
     "output_type": "display_data"
    },
    {
     "data": {
      "text/plain": [
       "(3,)"
      ]
     },
     "metadata": {},
     "output_type": "display_data"
    }
   ],
   "source": [
    "# Create a 1-d tensor\n",
    "numbers = [π, 1.414213, 2.71821]\n",
    "display(numbers)\n",
    "display(typeof(numbers))\n",
    "display(ndims(numbers))\n",
    "display(size(numbers))"
   ]
  },
  {
   "cell_type": "code",
   "execution_count": 49,
   "metadata": {},
   "outputs": [
    {
     "data": {
      "text/plain": [
       "2×4 Array{Float64,2}:\n",
       " 1.0  2.0  3.0  4.0\n",
       " 5.0  6.0  7.0  8.0"
      ]
     },
     "metadata": {},
     "output_type": "display_data"
    },
    {
     "data": {
      "text/plain": [
       "Array{Float64,2}"
      ]
     },
     "metadata": {},
     "output_type": "display_data"
    },
    {
     "data": {
      "text/plain": [
       "2"
      ]
     },
     "metadata": {},
     "output_type": "display_data"
    },
    {
     "data": {
      "text/plain": [
       "(2, 4)"
      ]
     },
     "metadata": {},
     "output_type": "display_data"
    }
   ],
   "source": [
    "# Create a 2-d tensor\n",
    "matrix = [1.0 2.0 3.0 4.0\n",
    "          5.0 6.0 7.0 8.0]\n",
    "display(matrix)\n",
    "display(typeof(matrix))\n",
    "display(ndims(matrix))\n",
    "display(size(matrix))"
   ]
  },
  {
   "cell_type": "code",
   "execution_count": 50,
   "metadata": {},
   "outputs": [
    {
     "data": {
      "text/plain": [
       "Array{Float64,4}"
      ]
     },
     "metadata": {},
     "output_type": "display_data"
    },
    {
     "data": {
      "text/plain": [
       "4"
      ]
     },
     "metadata": {},
     "output_type": "display_data"
    },
    {
     "data": {
      "text/plain": [
       "(10, 256, 256, 3)"
      ]
     },
     "metadata": {},
     "output_type": "display_data"
    }
   ],
   "source": [
    "# Create a 4-d tensor\n",
    "images = zeros(Float64, 10, 256, 256, 3)\n",
    "display(typeof(images))\n",
    "display(ndims(images))\n",
    "display(size(images))"
   ]
  },
  {
   "cell_type": "code",
   "execution_count": 51,
   "metadata": {},
   "outputs": [
    {
     "data": {
      "text/plain": [
       "2×4 Array{Float64,2}:\n",
       " 1.0  2.0  3.0  4.0\n",
       " 5.0  6.0  7.0  8.0"
      ]
     },
     "execution_count": 51,
     "metadata": {},
     "output_type": "execute_result"
    }
   ],
   "source": [
    "matrix"
   ]
  },
  {
   "cell_type": "code",
   "execution_count": 52,
   "metadata": {},
   "outputs": [
    {
     "data": {
      "text/plain": [
       "4-element Array{Float64,1}:\n",
       " 5.0\n",
       " 6.0\n",
       " 7.0\n",
       " 8.0"
      ]
     },
     "execution_count": 52,
     "metadata": {},
     "output_type": "execute_result"
    }
   ],
   "source": [
    "# row vector (1-based indexing)\n",
    "matrix[2,:]"
   ]
  },
  {
   "cell_type": "code",
   "execution_count": 53,
   "metadata": {},
   "outputs": [
    {
     "data": {
      "text/plain": [
       "2-element Array{Float64,1}:\n",
       " 3.0\n",
       " 7.0"
      ]
     },
     "execution_count": 53,
     "metadata": {},
     "output_type": "execute_result"
    }
   ],
   "source": [
    "# column vector (1-based indexing)\n",
    "matrix[:,3]"
   ]
  },
  {
   "cell_type": "code",
   "execution_count": 54,
   "metadata": {},
   "outputs": [
    {
     "data": {
      "text/plain": [
       "7.0"
      ]
     },
     "execution_count": 54,
     "metadata": {},
     "output_type": "execute_result"
    }
   ],
   "source": [
    "# scalar (1-based indexing)\n",
    "matrix[2, 3]"
   ]
  },
  {
   "cell_type": "markdown",
   "metadata": {
    "id": "iD3VO-LZYZ2z"
   },
   "source": [
    "## 1.2 Computations on Tensors\n",
    "\n",
    "A convenient way to think about and visualize computations in ~~TensorFlow~~ is in terms of graphs. We can define this graph in terms of Tensors, which hold data, and the mathematical operations that act on these Tensors in some order. Let's look at a simple example, and define this computation using ~~TensorFlow~~:\n",
    "\n",
    "![alt text](https://raw.githubusercontent.com/aamini/introtodeeplearning/master/lab1/img/add-graph.png)"
   ]
  },
  {
   "cell_type": "code",
   "execution_count": 42,
   "metadata": {
    "id": "X_YJrZsxYZ2z"
   },
   "outputs": [
    {
     "name": "stdout",
     "output_type": "stream",
     "text": [
      "tensor(76)\n"
     ]
    }
   ],
   "source": [
    "# Create the nodes in the graph, and initialize values\n",
    "a = torch.tensor(15)\n",
    "b = torch.tensor(61)\n",
    "\n",
    "c = a.add(b)\n",
    "print(c)"
   ]
  },
  {
   "cell_type": "markdown",
   "metadata": {
    "id": "Mbfv_QOiYZ23"
   },
   "source": [
    "Notice how we've created a computation graph consisting of ~~TensorFlow~~ operations, and how  the output is a Tensor with value 76 -- we've just created a computation graph consisting of operations, and it's executed them and given us back the result.\n",
    "\n",
    "Now let's consider a slightly more complicated example:\n",
    "\n",
    "![alt text](https://raw.githubusercontent.com/aamini/introtodeeplearning/master/lab1/img/computation-graph.png)\n",
    "\n",
    "Here, we take two inputs, `a, b`, and compute an output `e`. Each node in the graph represents an operation that takes some input, does some computation, and passes its output to another node.\n",
    "\n",
    "Let's define a simple function in ~~TensorFlow~~ to construct this computation function:"
   ]
  },
  {
   "cell_type": "code",
   "execution_count": 44,
   "metadata": {
    "id": "PJnfzpWyYZ23",
    "scrolled": true
   },
   "outputs": [],
   "source": [
    "### Defining Tensor computations ###\n",
    "\n",
    "# Construct a simple computation function\n",
    "def func(a,b):\n",
    "  c = a.add(b)\n",
    "  d = b.subtract(1)\n",
    "  e = c.multiply(d)\n",
    "  return e"
   ]
  },
  {
   "cell_type": "markdown",
   "metadata": {
    "id": "AwrRfDMS2-oy"
   },
   "source": [
    "Now, we can call this function to execute the computation graph given some inputs `a,b`:"
   ]
  },
  {
   "cell_type": "code",
   "execution_count": 45,
   "metadata": {
    "id": "pnwsf8w2uF7p"
   },
   "outputs": [
    {
     "ename": "AttributeError",
     "evalue": "'float' object has no attribute 'add'",
     "output_type": "error",
     "traceback": [
      "\u001b[0;31m---------------------------------------------------------------------------\u001b[0m",
      "\u001b[0;31mAttributeError\u001b[0m                            Traceback (most recent call last)",
      "\u001b[0;32m<ipython-input-45-b4f510db095f>\u001b[0m in \u001b[0;36m<module>\u001b[0;34m\u001b[0m\n\u001b[1;32m      2\u001b[0m \u001b[0ma\u001b[0m\u001b[0;34m,\u001b[0m \u001b[0mb\u001b[0m \u001b[0;34m=\u001b[0m \u001b[0;36m1.5\u001b[0m\u001b[0;34m,\u001b[0m \u001b[0;36m2.5\u001b[0m\u001b[0;34m\u001b[0m\u001b[0;34m\u001b[0m\u001b[0m\n\u001b[1;32m      3\u001b[0m \u001b[0;31m# Execute the computation\u001b[0m\u001b[0;34m\u001b[0m\u001b[0;34m\u001b[0m\u001b[0;34m\u001b[0m\u001b[0m\n\u001b[0;32m----> 4\u001b[0;31m \u001b[0me_out\u001b[0m \u001b[0;34m=\u001b[0m \u001b[0mfunc\u001b[0m\u001b[0;34m(\u001b[0m\u001b[0ma\u001b[0m\u001b[0;34m,\u001b[0m\u001b[0mb\u001b[0m\u001b[0;34m)\u001b[0m\u001b[0;34m\u001b[0m\u001b[0;34m\u001b[0m\u001b[0m\n\u001b[0m\u001b[1;32m      5\u001b[0m \u001b[0mprint\u001b[0m\u001b[0;34m(\u001b[0m\u001b[0me_out\u001b[0m\u001b[0;34m)\u001b[0m\u001b[0;34m\u001b[0m\u001b[0;34m\u001b[0m\u001b[0m\n",
      "\u001b[0;32m<ipython-input-44-65dd9e141708>\u001b[0m in \u001b[0;36mfunc\u001b[0;34m(a, b)\u001b[0m\n\u001b[1;32m      3\u001b[0m \u001b[0;31m# Construct a simple computation function\u001b[0m\u001b[0;34m\u001b[0m\u001b[0;34m\u001b[0m\u001b[0;34m\u001b[0m\u001b[0m\n\u001b[1;32m      4\u001b[0m \u001b[0;32mdef\u001b[0m \u001b[0mfunc\u001b[0m\u001b[0;34m(\u001b[0m\u001b[0ma\u001b[0m\u001b[0;34m,\u001b[0m\u001b[0mb\u001b[0m\u001b[0;34m)\u001b[0m\u001b[0;34m:\u001b[0m\u001b[0;34m\u001b[0m\u001b[0;34m\u001b[0m\u001b[0m\n\u001b[0;32m----> 5\u001b[0;31m   \u001b[0mc\u001b[0m \u001b[0;34m=\u001b[0m \u001b[0ma\u001b[0m\u001b[0;34m.\u001b[0m\u001b[0madd\u001b[0m\u001b[0;34m(\u001b[0m\u001b[0mb\u001b[0m\u001b[0;34m)\u001b[0m\u001b[0;34m\u001b[0m\u001b[0;34m\u001b[0m\u001b[0m\n\u001b[0m\u001b[1;32m      6\u001b[0m   \u001b[0md\u001b[0m \u001b[0;34m=\u001b[0m \u001b[0mb\u001b[0m\u001b[0;34m.\u001b[0m\u001b[0msubtract\u001b[0m\u001b[0;34m(\u001b[0m\u001b[0;36m1\u001b[0m\u001b[0;34m)\u001b[0m\u001b[0;34m\u001b[0m\u001b[0;34m\u001b[0m\u001b[0m\n\u001b[1;32m      7\u001b[0m   \u001b[0me\u001b[0m \u001b[0;34m=\u001b[0m \u001b[0mc\u001b[0m\u001b[0;34m.\u001b[0m\u001b[0mmultiply\u001b[0m\u001b[0;34m(\u001b[0m\u001b[0md\u001b[0m\u001b[0;34m)\u001b[0m\u001b[0;34m\u001b[0m\u001b[0;34m\u001b[0m\u001b[0m\n",
      "\u001b[0;31mAttributeError\u001b[0m: 'float' object has no attribute 'add'"
     ]
    }
   ],
   "source": [
    "# Consider example values for a,b\n",
    "a, b = 1.5, 2.5\n",
    "# Execute the computation\n",
    "e_out = func(a,b)\n",
    "print(e_out)"
   ]
  },
  {
   "cell_type": "markdown",
   "metadata": {
    "id": "6HqgUIUhYZ29"
   },
   "source": [
    "Notice how our output is a Tensor with value defined by the output of the computation, and that the output has no shape as it is a single scalar value."
   ]
  },
  {
   "cell_type": "markdown",
   "metadata": {
    "id": "1h4o9Bb0YZ29"
   },
   "source": [
    "## 1.3 Neural networks in TensorFlow\n",
    "We can also define neural networks in TensorFlow. TensorFlow uses a high-level API called [Keras](https://www.tensorflow.org/guide/keras) that provides a powerful, intuitive framework for building and training deep learning models.\n",
    "\n",
    "Let's first consider the example of a simple perceptron defined by just one dense layer: $ y = \\sigma(Wx + b)$, where $W$ represents a matrix of weights, $b$ is a bias, $x$ is the input, $\\sigma$ is the sigmoid activation function, and $y$ is the output. We can also visualize this operation using a graph: \n",
    "\n",
    "![alt text](https://raw.githubusercontent.com/aamini/introtodeeplearning/master/lab1/img/computation-graph-2.png)\n",
    "\n",
    "Tensors can flow through abstract types called [```Layers```](https://www.tensorflow.org/api_docs/python/tf/keras/layers/Layer) -- the building blocks of neural networks. ```Layers``` implement common neural networks operations, and are used to update weights, compute losses, and define inter-layer connectivity. We will first define a ```Layer``` to implement the simple perceptron defined above."
   ]
  },
  {
   "cell_type": "code",
   "execution_count": null,
   "metadata": {
    "id": "HutbJk-1kHPh"
   },
   "outputs": [],
   "source": [
    "### Defining a network Layer ###\n",
    "\n",
    "# n_output_nodes: number of output nodes\n",
    "# input_shape: shape of the input\n",
    "# x: input to the layer\n",
    "\n",
    "class OurDenseLayer(tf.keras.layers.Layer):\n",
    "  def __init__(self, n_output_nodes):\n",
    "    super(OurDenseLayer, self).__init__()\n",
    "    self.n_output_nodes = n_output_nodes\n",
    "\n",
    "  def build(self, input_shape):\n",
    "    d = int(input_shape[-1])\n",
    "    # Define and initialize parameters: a weight matrix W and bias b\n",
    "    # Note that parameter initialization is random!\n",
    "    self.W = self.add_weight(\"weight\", shape=[d, self.n_output_nodes]) # note the dimensionality\n",
    "    self.b = self.add_weight(\"bias\", shape=[1, self.n_output_nodes]) # note the dimensionality\n",
    "\n",
    "  def call(self, x):\n",
    "    '''TODO: define the operation for z (hint: use tf.matmul)'''\n",
    "    z = tf.matmul(x, self.W) + self.b # TODO\n",
    "    # z = # TODO\n",
    "\n",
    "    '''TODO: define the operation for out (hint: use tf.sigmoid)'''\n",
    "    y = tf.sigmoid(z) # TODO\n",
    "    # y = # TODO\n",
    "    return y\n",
    "\n",
    "# Since layer parameters are initialized randomly, we will set a random seed for reproducibility\n",
    "tf.random.set_seed(1)\n",
    "layer = OurDenseLayer(3)\n",
    "layer.build((1,2))\n",
    "x_input = tf.constant([[1,2.]], shape=(1,2))\n",
    "y = layer.call(x_input)\n",
    "\n",
    "# test the output!\n",
    "print(y.numpy())\n",
    "# Doesn't work:\n",
    "# mdl.lab1.test_custom_dense_layer_output(y)"
   ]
  },
  {
   "cell_type": "markdown",
   "metadata": {
    "id": "Jt1FgM7qYZ3D"
   },
   "source": [
    "Conveniently, TensorFlow has defined a number of ```Layers``` that are commonly used in neural networks, for example a [```Dense```](https://www.tensorflow.org/api_docs/python/tf/keras/layers/Dense?version=stable). Now, instead of using a single ```Layer``` to define our simple neural network, we'll use the  [`Sequential`](https://www.tensorflow.org/versions/r2.0/api_docs/python/tf/keras/Sequential) model from Keras and a single [`Dense` ](https://www.tensorflow.org/versions/r2.0/api_docs/python/tf/keras/layers/Dense) layer to define our network. With the `Sequential` API, you can readily create neural networks by stacking together layers like building blocks. "
   ]
  },
  {
   "cell_type": "code",
   "execution_count": null,
   "metadata": {
    "id": "7WXTpmoL6TDz"
   },
   "outputs": [],
   "source": [
    "### Defining a neural network using the Sequential API ###\n",
    "\n",
    "# Import relevant packages\n",
    "from tensorflow.keras import Sequential\n",
    "from tensorflow.keras.layers import Dense\n",
    "\n",
    "# Define the number of outputs\n",
    "n_output_nodes = 3\n",
    "\n",
    "# First define the model \n",
    "model = Sequential()\n",
    "\n",
    "'''TODO: Define a dense (fully connected) layer to compute z'''\n",
    "# Remember: dense layers are defined by the parameters W and b!\n",
    "# You can read more about the initialization of W and b in the TF documentation :) \n",
    "# https://www.tensorflow.org/api_docs/python/tf/keras/layers/Dense?version=stable\n",
    "dense_layer = Dense(n_output_nodes, activation='sigmoid') # TODO\n",
    "# dense_layer = # TODO\n",
    "\n",
    "# Add the dense layer to the model\n",
    "model.add(dense_layer)\n"
   ]
  },
  {
   "cell_type": "markdown",
   "metadata": {
    "id": "HDGcwYfUyR-U"
   },
   "source": [
    "That's it! We've defined our model using the Sequential API. Now, we can test it out using an example input:"
   ]
  },
  {
   "cell_type": "code",
   "execution_count": null,
   "metadata": {
    "id": "sg23OczByRDb"
   },
   "outputs": [],
   "source": [
    "# Test model with example input\n",
    "x_input = tf.constant([[1,2.]], shape=(1,2))\n",
    "\n",
    "'''TODO: feed input into the model and predict the output!'''\n",
    "model_output = model(x_input).numpy()\n",
    "# model_output = # TODO\n",
    "print(model_output)"
   ]
  },
  {
   "cell_type": "markdown",
   "metadata": {
    "id": "596NvsOOtr9F"
   },
   "source": [
    "In addition to defining models using the `Sequential` API, we can also define neural networks by directly subclassing the [`Model`](https://www.tensorflow.org/api_docs/python/tf/keras/Model?version=stable) class, which groups layers together to enable model training and inference. The `Model` class captures what we refer to as a \"model\" or as a \"network\". Using Subclassing, we can create a class for our model, and then define the forward pass through the network using the `call` function. Subclassing affords the flexibility to define custom layers, custom training loops, custom activation functions, and custom models. Let's define the same neural network as above now using Subclassing rather than the `Sequential` model."
   ]
  },
  {
   "cell_type": "code",
   "execution_count": null,
   "metadata": {
    "id": "K4aCflPVyViD"
   },
   "outputs": [],
   "source": [
    "### Defining a model using subclassing ###\n",
    "\n",
    "from tensorflow.keras import Model\n",
    "from tensorflow.keras.layers import Dense\n",
    "\n",
    "class SubclassModel(tf.keras.Model):\n",
    "\n",
    "  # In __init__, we define the Model's layers\n",
    "  def __init__(self, n_output_nodes):\n",
    "    super(SubclassModel, self).__init__()\n",
    "    '''TODO: Our model consists of a single Dense layer. Define this layer.''' \n",
    "    self.dense_layer = Dense(n_output_nodes, activation='sigmoid') # TODO\n",
    "    # self.dense_layer = '''TODO: Dense Layer'''\n",
    "\n",
    "  # In the call function, we define the Model's forward pass.\n",
    "  def call(self, inputs):\n",
    "    return self.dense_layer(inputs)"
   ]
  },
  {
   "cell_type": "markdown",
   "metadata": {
    "id": "U0-lwHDk4irB"
   },
   "source": [
    "Just like the model we built using the `Sequential` API, let's test out our `SubclassModel` using an example input.\n",
    "\n"
   ]
  },
  {
   "cell_type": "code",
   "execution_count": null,
   "metadata": {
    "id": "LhB34RA-4gXb"
   },
   "outputs": [],
   "source": [
    "n_output_nodes = 3\n",
    "model = SubclassModel(n_output_nodes)\n",
    "\n",
    "x_input = tf.constant([[1,2.]], shape=(1,2))\n",
    "\n",
    "print(model.call(x_input))"
   ]
  },
  {
   "cell_type": "markdown",
   "metadata": {
    "id": "HTIFMJLAzsyE"
   },
   "source": [
    "Importantly, Subclassing affords us a lot of flexibility to define custom models. For example, we can use boolean arguments in the `call` function to specify different network behaviors, for example different behaviors during training and inference. Let's suppose under some instances we want our network to simply output the input, without any perturbation. We define a boolean argument `isidentity` to control this behavior:"
   ]
  },
  {
   "cell_type": "code",
   "execution_count": null,
   "metadata": {
    "id": "P7jzGX5D1xT5"
   },
   "outputs": [],
   "source": [
    "### Defining a model using subclassing and specifying custom behavior ###\n",
    "\n",
    "from tensorflow.keras import Model\n",
    "from tensorflow.keras.layers import Dense\n",
    "\n",
    "class IdentityModel(tf.keras.Model):\n",
    "\n",
    "  # As before, in __init__ we define the Model's layers\n",
    "  # Since our desired behavior involves the forward pass, this part is unchanged\n",
    "  def __init__(self, n_output_nodes):\n",
    "    super(IdentityModel, self).__init__()\n",
    "    self.dense_layer = tf.keras.layers.Dense(n_output_nodes, activation='sigmoid')\n",
    "\n",
    "  '''TODO: Implement the behavior where the network outputs the input, unchanged, under control of the isidentity argument.'''\n",
    "  def call(self, inputs, isidentity=False):\n",
    "    x = self.dense_layer(inputs)\n",
    "    if isidentity: # TODO\n",
    "      return inputs # TODO\n",
    "    return x\n",
    "  \n",
    "  # def call(self, inputs, isidentity=False):\n",
    "    # TODO"
   ]
  },
  {
   "cell_type": "markdown",
   "metadata": {
    "id": "Ku4rcCGx5T3y"
   },
   "source": [
    "Let's test this behavior:"
   ]
  },
  {
   "cell_type": "code",
   "execution_count": null,
   "metadata": {
    "id": "NzC0mgbk5dp2"
   },
   "outputs": [],
   "source": [
    "n_output_nodes = 3\n",
    "model = IdentityModel(n_output_nodes)\n",
    "\n",
    "x_input = tf.constant([[1,2.]], shape=(1,2))\n",
    "'''TODO: pass the input into the model and call with and without the input identity option.'''\n",
    "out_activate = model.call(x_input) # TODO\n",
    "# out_activate = # TODO\n",
    "out_identity = model.call(x_input, isidentity=True) # TODO\n",
    "# out_identity = # TODO\n",
    "\n",
    "print(\"Network output with activation: {}; network identity output: {}\".format(out_activate.numpy(), out_identity.numpy()))"
   ]
  },
  {
   "cell_type": "markdown",
   "metadata": {
    "id": "7V1dEqdk6VI5"
   },
   "source": [
    "Now that we have learned how to define `Layers` as well as neural networks in TensorFlow using both the `Sequential` and Subclassing APIs, we're ready to turn our attention to how to actually implement network training with backpropagation."
   ]
  },
  {
   "cell_type": "markdown",
   "metadata": {
    "id": "dQwDhKn8kbO2"
   },
   "source": [
    "## 1.4 Automatic differentiation in TensorFlow\n",
    "\n",
    "[Automatic differentiation](https://en.wikipedia.org/wiki/Automatic_differentiation)\n",
    "is one of the most important parts of TensorFlow and is the backbone of training with \n",
    "[backpropagation](https://en.wikipedia.org/wiki/Backpropagation). We will use the TensorFlow GradientTape [`tf.GradientTape`](https://www.tensorflow.org/api_docs/python/tf/GradientTape?version=stable) to trace operations for computing gradients later. \n",
    "\n",
    "When a forward pass is made through the network, all forward-pass operations get recorded to a \"tape\"; then, to compute the gradient, the tape is played backwards. By default, the tape is discarded after it is played backwards; this means that a particular `tf.GradientTape` can only\n",
    "compute one gradient, and subsequent calls throw a runtime error. However, we can compute multiple gradients over the same computation by creating a ```persistent``` gradient tape. \n",
    "\n",
    "First, we will look at how we can compute gradients using GradientTape and access them for computation. We define the simple function $ y = x^2$ and compute the gradient:"
   ]
  },
  {
   "cell_type": "code",
   "execution_count": null,
   "metadata": {
    "id": "tdkqk8pw5yJM"
   },
   "outputs": [],
   "source": [
    "### Gradient computation with GradientTape ###\n",
    "\n",
    "# y = x^2\n",
    "# Example: x = 3.0\n",
    "x = tf.Variable(3.0)\n",
    "\n",
    "# Initiate the gradient tape\n",
    "with tf.GradientTape() as tape:\n",
    "  # Define the function\n",
    "  y = x * x\n",
    "# Access the gradient -- derivative of y with respect to x\n",
    "dy_dx = tape.gradient(y, x)\n",
    "\n",
    "assert dy_dx.numpy() == 6.0"
   ]
  },
  {
   "cell_type": "markdown",
   "metadata": {
    "id": "JhU5metS5xF3"
   },
   "source": [
    "In training neural networks, we use differentiation and stochastic gradient descent (SGD) to optimize a loss function. Now that we have a sense of how `GradientTape` can be used to compute and access derivatives, we will look at an example where we use automatic differentiation and SGD to find the minimum of $L=(x-x_f)^2$. Here $x_f$ is a variable for a desired value we are trying to optimize for; $L$ represents a loss that we are trying to  minimize. While we can clearly solve this problem analytically ($x_{min}=x_f$), considering how we can compute this using `GradientTape` sets us up nicely for future labs where we use gradient descent to optimize entire neural network losses."
   ]
  },
  {
   "cell_type": "code",
   "execution_count": null,
   "metadata": {
    "attributes": {
     "classes": [
      "py"
     ],
     "id": ""
    },
    "id": "7g1yWiSXqEf-"
   },
   "outputs": [],
   "source": [
    "### Function minimization with automatic differentiation and SGD ###\n",
    "\n",
    "# Initialize a random value for our initial x\n",
    "x = tf.Variable([tf.random.normal([1])])\n",
    "print(\"Initializing x={}\".format(x.numpy()))\n",
    "\n",
    "learning_rate = 1e-2 # learning rate for SGD\n",
    "history = []\n",
    "# Define the target value\n",
    "x_f = 4\n",
    "\n",
    "# We will run SGD for a number of iterations. At each iteration, we compute the loss, \n",
    "#   compute the derivative of the loss with respect to x, and perform the SGD update.\n",
    "for i in range(500):\n",
    "  with tf.GradientTape() as tape:\n",
    "    '''TODO: define the loss as described above'''\n",
    "    loss = (x - x_f)**2 # \"forward pass\": record the current loss on the tape\n",
    "    # loss = # TODO\n",
    "\n",
    "  # loss minimization using gradient tape\n",
    "  grad = tape.gradient(loss, x) # compute the derivative of the loss with respect to x\n",
    "  new_x = x - learning_rate*grad # sgd update\n",
    "  x.assign(new_x) # update the value of x\n",
    "  history.append(x.numpy()[0])\n",
    "\n",
    "# Plot the evolution of x as we optimize towards x_f!\n",
    "plt.plot(history)\n",
    "plt.plot([0, 500],[x_f,x_f])\n",
    "plt.legend(('Predicted', 'True'))\n",
    "plt.xlabel('Iteration')\n",
    "plt.ylabel('x value')"
   ]
  },
  {
   "cell_type": "markdown",
   "metadata": {
    "id": "pC7czCwk3ceH"
   },
   "source": [
    "`GradientTape` provides an extremely flexible framework for automatic differentiation. In order to back propagate errors through a neural network, we track forward passes on the Tape, use this information to determine the gradients, and then use these gradients for optimization using SGD."
   ]
  }
 ],
 "metadata": {
  "accelerator": "GPU",
  "colab": {
   "collapsed_sections": [
    "WBk0ZDWY-ff8"
   ],
   "name": "Part1_TensorFlow_Solution.ipynb",
   "provenance": []
  },
  "kernelspec": {
   "display_name": "Julia 1.5.3",
   "language": "julia",
   "name": "julia-1.5"
  },
  "language_info": {
   "file_extension": ".jl",
   "mimetype": "application/julia",
   "name": "julia",
   "version": "1.5.3"
  }
 },
 "nbformat": 4,
 "nbformat_minor": 4
}
